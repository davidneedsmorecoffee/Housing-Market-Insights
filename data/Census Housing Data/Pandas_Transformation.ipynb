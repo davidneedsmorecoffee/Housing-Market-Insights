{
 "cells": [
  {
   "cell_type": "code",
   "execution_count": 1,
   "metadata": {},
   "outputs": [],
   "source": [
    "#import dependencies\n",
    "import numpy\n",
    "import pandas as pd"
   ]
  },
  {
   "cell_type": "code",
   "execution_count": 15,
   "metadata": {},
   "outputs": [],
   "source": [
    "#call in csvs\n",
    "years = [\"10\",\"11\",\"12\",\"13\",\"14\",\"15\",\"16\",\"17\"]\n",
    "housing10 = pd.read_excel(f\"Excel//ACS_10_5YR_DP04.xlsx\")\n",
    "housing11 = pd.read_excel(f\"Excel//ACS_11_5YR_DP04.xlsx\")\n",
    "housing12 = pd.read_excel(f\"Excel//ACS_12_5YR_DP04.xlsx\")\n",
    "housing13 = pd.read_excel(f\"Excel//ACS_13_5YR_DP04.xlsx\")\n",
    "housing14 = pd.read_excel(f\"Excel//ACS_14_5YR_DP04.xlsx\")\n",
    "housing15 = pd.read_excel(f\"Excel//ACS_15_5YR_DP04.xlsx\")\n",
    "housing16 = pd.read_excel(f\"Excel//ACS_16_5YR_DP04.xlsx\")\n",
    "housing17 = pd.read_excel(f\"Excel//ACS_17_5YR_DP04.xlsx\")"
   ]
  },
  {
   "cell_type": "code",
   "execution_count": null,
   "metadata": {},
   "outputs": [],
   "source": [
    "housing10.head()"
   ]
  },
  {
   "cell_type": "code",
   "execution_count": null,
   "metadata": {},
   "outputs": [],
   "source": []
  }
 ],
 "metadata": {
  "kernelspec": {
   "display_name": "Python 3",
   "language": "python",
   "name": "python3"
  },
  "language_info": {
   "codemirror_mode": {
    "name": "ipython",
    "version": 3
   },
   "file_extension": ".py",
   "mimetype": "text/x-python",
   "name": "python",
   "nbconvert_exporter": "python",
   "pygments_lexer": "ipython3",
   "version": "3.7.3"
  }
 },
 "nbformat": 4,
 "nbformat_minor": 4
}
