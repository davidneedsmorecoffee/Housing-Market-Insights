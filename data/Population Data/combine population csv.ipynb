{
 "cells": [
  {
   "cell_type": "code",
   "execution_count": 40,
   "metadata": {
    "ExecuteTime": {
     "end_time": "2019-12-18T02:00:06.524321Z",
     "start_time": "2019-12-18T02:00:06.520320Z"
    }
   },
   "outputs": [],
   "source": [
    "import os\n",
    "import glob\n",
    "import pandas as pd\n",
    "# os.chdir(\"/Users/robinhawkins/Google Drive/CombineCSVs/\")\n",
    "os.chdir(\"/Users/Robin/Documents/NU_Projects/Housing-Market-Insights/Population Data\")"
   ]
  },
  {
   "cell_type": "code",
   "execution_count": 41,
   "metadata": {
    "ExecuteTime": {
     "end_time": "2019-12-18T02:00:06.607327Z",
     "start_time": "2019-12-18T02:00:06.527320Z"
    }
   },
   "outputs": [],
   "source": [
    "# Insert filename as column\n",
    "\n",
    "all_filenames = list()\n",
    "counter = 0\n",
    "\n",
    "for file in os.listdir():\n",
    "    if file.endswith('.csv'):\n",
    "        df = pd.read_csv(file,sep=\",\",skiprows=[1], encoding='latin-1')\n",
    "        df['filename'] = file\n",
    "        df['year'] = \"20\"+df['filename'][counter][4:6]\n",
    "        all_filenames.append(df)\n",
    "        counter = counter + 1"
   ]
  },
  {
   "cell_type": "code",
   "execution_count": 42,
   "metadata": {
    "ExecuteTime": {
     "end_time": "2019-12-18T02:00:06.660331Z",
     "start_time": "2019-12-18T02:00:06.610327Z"
    }
   },
   "outputs": [
    {
     "data": {
      "text/plain": [
       "[              GEO.id  GEO.id2           GEO.display-label  HD01_VD01  \\\n",
       " 0     0500000US01001     1001     Autauga County, Alabama      53155   \n",
       " 1     0500000US01003     1003     Baldwin County, Alabama     175791   \n",
       " 2     0500000US01005     1005     Barbour County, Alabama      27699   \n",
       " 3     0500000US01007     1007        Bibb County, Alabama      22610   \n",
       " 4     0500000US01009     1009      Blount County, Alabama      56692   \n",
       " ...              ...      ...                         ...        ...   \n",
       " 3138  0500000US56037    56037  Sweetwater County, Wyoming      42266   \n",
       " 3139  0500000US56039    56039       Teton County, Wyoming      20802   \n",
       " 3140  0500000US56041    56041       Uinta County, Wyoming      20537   \n",
       " 3141  0500000US56043    56043    Washakie County, Wyoming       8271   \n",
       " 3142  0500000US56045    56045      Weston County, Wyoming       7066   \n",
       " \n",
       "      HD02_VD01                        filename  year  \n",
       " 0        *****  ACS_10_5YR_B01003_with_ann.csv  2010  \n",
       " 1        *****  ACS_10_5YR_B01003_with_ann.csv  2010  \n",
       " 2        *****  ACS_10_5YR_B01003_with_ann.csv  2010  \n",
       " 3        *****  ACS_10_5YR_B01003_with_ann.csv  2010  \n",
       " 4        *****  ACS_10_5YR_B01003_with_ann.csv  2010  \n",
       " ...        ...                             ...   ...  \n",
       " 3138     *****  ACS_10_5YR_B01003_with_ann.csv  2010  \n",
       " 3139     *****  ACS_10_5YR_B01003_with_ann.csv  2010  \n",
       " 3140     *****  ACS_10_5YR_B01003_with_ann.csv  2010  \n",
       " 3141     *****  ACS_10_5YR_B01003_with_ann.csv  2010  \n",
       " 3142     *****  ACS_10_5YR_B01003_with_ann.csv  2010  \n",
       " \n",
       " [3143 rows x 7 columns],\n",
       "               GEO.id  GEO.id2           GEO.display-label  HD01_VD01  \\\n",
       " 0     0500000US01001     1001     Autauga County, Alabama      53944   \n",
       " 1     0500000US01003     1003     Baldwin County, Alabama     179523   \n",
       " 2     0500000US01005     1005     Barbour County, Alabama      27546   \n",
       " 3     0500000US01007     1007        Bibb County, Alabama      22746   \n",
       " 4     0500000US01009     1009      Blount County, Alabama      57140   \n",
       " ...              ...      ...                         ...        ...   \n",
       " 3138  0500000US56037    56037  Sweetwater County, Wyoming      43152   \n",
       " 3139  0500000US56039    56039       Teton County, Wyoming      21111   \n",
       " 3140  0500000US56041    56041       Uinta County, Wyoming      20788   \n",
       " 3141  0500000US56043    56043    Washakie County, Wyoming       8372   \n",
       " 3142  0500000US56045    56045      Weston County, Wyoming       7144   \n",
       " \n",
       "      HD02_VD01                        filename  year  \n",
       " 0        *****  ACS_11_5YR_B01003_with_ann.csv  2011  \n",
       " 1        *****  ACS_11_5YR_B01003_with_ann.csv  2011  \n",
       " 2        *****  ACS_11_5YR_B01003_with_ann.csv  2011  \n",
       " 3        *****  ACS_11_5YR_B01003_with_ann.csv  2011  \n",
       " 4        *****  ACS_11_5YR_B01003_with_ann.csv  2011  \n",
       " ...        ...                             ...   ...  \n",
       " 3138     *****  ACS_11_5YR_B01003_with_ann.csv  2011  \n",
       " 3139     *****  ACS_11_5YR_B01003_with_ann.csv  2011  \n",
       " 3140     *****  ACS_11_5YR_B01003_with_ann.csv  2011  \n",
       " 3141     *****  ACS_11_5YR_B01003_with_ann.csv  2011  \n",
       " 3142     *****  ACS_11_5YR_B01003_with_ann.csv  2011  \n",
       " \n",
       " [3143 rows x 7 columns],\n",
       "               GEO.id  GEO.id2           GEO.display-label  HD01_VD01  \\\n",
       " 0     0500000US01001     1001     Autauga County, Alabama      54590   \n",
       " 1     0500000US01003     1003     Baldwin County, Alabama     183226   \n",
       " 2     0500000US01005     1005     Barbour County, Alabama      27469   \n",
       " 3     0500000US01007     1007        Bibb County, Alabama      22769   \n",
       " 4     0500000US01009     1009      Blount County, Alabama      57466   \n",
       " ...              ...      ...                         ...        ...   \n",
       " 3138  0500000US56037    56037  Sweetwater County, Wyoming      43890   \n",
       " 3139  0500000US56039    56039       Teton County, Wyoming      21326   \n",
       " 3140  0500000US56041    56041       Uinta County, Wyoming      20942   \n",
       " 3141  0500000US56043    56043    Washakie County, Wyoming       8425   \n",
       " 3142  0500000US56045    56045      Weston County, Wyoming       7152   \n",
       " \n",
       "      HD02_VD01                        filename  year  \n",
       " 0        *****  ACS_12_5YR_B01003_with_ann.csv  2012  \n",
       " 1        *****  ACS_12_5YR_B01003_with_ann.csv  2012  \n",
       " 2        *****  ACS_12_5YR_B01003_with_ann.csv  2012  \n",
       " 3        *****  ACS_12_5YR_B01003_with_ann.csv  2012  \n",
       " 4        *****  ACS_12_5YR_B01003_with_ann.csv  2012  \n",
       " ...        ...                             ...   ...  \n",
       " 3138     *****  ACS_12_5YR_B01003_with_ann.csv  2012  \n",
       " 3139     *****  ACS_12_5YR_B01003_with_ann.csv  2012  \n",
       " 3140     *****  ACS_12_5YR_B01003_with_ann.csv  2012  \n",
       " 3141     *****  ACS_12_5YR_B01003_with_ann.csv  2012  \n",
       " 3142     *****  ACS_12_5YR_B01003_with_ann.csv  2012  \n",
       " \n",
       " [3143 rows x 7 columns],\n",
       "               GEO.id  GEO.id2           GEO.display-label  HD01_VD01  \\\n",
       " 0     0500000US01001     1001     Autauga County, Alabama      54907   \n",
       " 1     0500000US01003     1003     Baldwin County, Alabama     187114   \n",
       " 2     0500000US01005     1005     Barbour County, Alabama      27321   \n",
       " 3     0500000US01007     1007        Bibb County, Alabama      22754   \n",
       " 4     0500000US01009     1009      Blount County, Alabama      57623   \n",
       " ...              ...      ...                         ...        ...   \n",
       " 3138  0500000US56037    56037  Sweetwater County, Wyoming      44437   \n",
       " 3139  0500000US56039    56039       Teton County, Wyoming      21575   \n",
       " 3140  0500000US56041    56041       Uinta County, Wyoming      21040   \n",
       " 3141  0500000US56043    56043    Washakie County, Wyoming       8468   \n",
       " 3142  0500000US56045    56045      Weston County, Wyoming       7153   \n",
       " \n",
       "      HD02_VD01                        filename  year  \n",
       " 0        *****  ACS_13_5YR_B01003_with_ann.csv  2013  \n",
       " 1        *****  ACS_13_5YR_B01003_with_ann.csv  2013  \n",
       " 2        *****  ACS_13_5YR_B01003_with_ann.csv  2013  \n",
       " 3        *****  ACS_13_5YR_B01003_with_ann.csv  2013  \n",
       " 4        *****  ACS_13_5YR_B01003_with_ann.csv  2013  \n",
       " ...        ...                             ...   ...  \n",
       " 3138     *****  ACS_13_5YR_B01003_with_ann.csv  2013  \n",
       " 3139     *****  ACS_13_5YR_B01003_with_ann.csv  2013  \n",
       " 3140     *****  ACS_13_5YR_B01003_with_ann.csv  2013  \n",
       " 3141     *****  ACS_13_5YR_B01003_with_ann.csv  2013  \n",
       " 3142     *****  ACS_13_5YR_B01003_with_ann.csv  2013  \n",
       " \n",
       " [3143 rows x 7 columns],\n",
       "               GEO.id  GEO.id2           GEO.display-label  HD01_VD01  \\\n",
       " 0     0500000US01001     1001     Autauga County, Alabama      55136   \n",
       " 1     0500000US01003     1003     Baldwin County, Alabama     191205   \n",
       " 2     0500000US01005     1005     Barbour County, Alabama      27119   \n",
       " 3     0500000US01007     1007        Bibb County, Alabama      22653   \n",
       " 4     0500000US01009     1009      Blount County, Alabama      57645   \n",
       " ...              ...      ...                         ...        ...   \n",
       " 3137  0500000US56037    56037  Sweetwater County, Wyoming      44595   \n",
       " 3138  0500000US56039    56039       Teton County, Wyoming      21956   \n",
       " 3139  0500000US56041    56041       Uinta County, Wyoming      20989   \n",
       " 3140  0500000US56043    56043    Washakie County, Wyoming       8444   \n",
       " 3141  0500000US56045    56045      Weston County, Wyoming       7135   \n",
       " \n",
       "      HD02_VD01                        filename  year  \n",
       " 0        *****  ACS_14_5YR_B01003_with_ann.csv  2014  \n",
       " 1        *****  ACS_14_5YR_B01003_with_ann.csv  2014  \n",
       " 2        *****  ACS_14_5YR_B01003_with_ann.csv  2014  \n",
       " 3        *****  ACS_14_5YR_B01003_with_ann.csv  2014  \n",
       " 4        *****  ACS_14_5YR_B01003_with_ann.csv  2014  \n",
       " ...        ...                             ...   ...  \n",
       " 3137     *****  ACS_14_5YR_B01003_with_ann.csv  2014  \n",
       " 3138     *****  ACS_14_5YR_B01003_with_ann.csv  2014  \n",
       " 3139     *****  ACS_14_5YR_B01003_with_ann.csv  2014  \n",
       " 3140     *****  ACS_14_5YR_B01003_with_ann.csv  2014  \n",
       " 3141     *****  ACS_14_5YR_B01003_with_ann.csv  2014  \n",
       " \n",
       " [3142 rows x 7 columns],\n",
       "               GEO.id  GEO.id2           GEO.display-label  HD01_VD01  \\\n",
       " 0     0500000US01001     1001     Autauga County, Alabama      55221   \n",
       " 1     0500000US01003     1003     Baldwin County, Alabama     195121   \n",
       " 2     0500000US01005     1005     Barbour County, Alabama      26932   \n",
       " 3     0500000US01007     1007        Bibb County, Alabama      22604   \n",
       " 4     0500000US01009     1009      Blount County, Alabama      57710   \n",
       " ...              ...      ...                         ...        ...   \n",
       " 3137  0500000US56037    56037  Sweetwater County, Wyoming      44772   \n",
       " 3138  0500000US56039    56039       Teton County, Wyoming      22311   \n",
       " 3139  0500000US56041    56041       Uinta County, Wyoming      20930   \n",
       " 3140  0500000US56043    56043    Washakie County, Wyoming       8400   \n",
       " 3141  0500000US56045    56045      Weston County, Wyoming       7152   \n",
       " \n",
       "      HD02_VD01                        filename  year  \n",
       " 0        *****  ACS_15_5YR_B01003_with_ann.csv  2015  \n",
       " 1        *****  ACS_15_5YR_B01003_with_ann.csv  2015  \n",
       " 2        *****  ACS_15_5YR_B01003_with_ann.csv  2015  \n",
       " 3        *****  ACS_15_5YR_B01003_with_ann.csv  2015  \n",
       " 4        *****  ACS_15_5YR_B01003_with_ann.csv  2015  \n",
       " ...        ...                             ...   ...  \n",
       " 3137     *****  ACS_15_5YR_B01003_with_ann.csv  2015  \n",
       " 3138     *****  ACS_15_5YR_B01003_with_ann.csv  2015  \n",
       " 3139     *****  ACS_15_5YR_B01003_with_ann.csv  2015  \n",
       " 3140     *****  ACS_15_5YR_B01003_with_ann.csv  2015  \n",
       " 3141     *****  ACS_15_5YR_B01003_with_ann.csv  2015  \n",
       " \n",
       " [3142 rows x 7 columns],\n",
       "               GEO.id  GEO.id2           GEO.display-label  HD01_VD01  \\\n",
       " 0     0500000US01001     1001     Autauga County, Alabama      55049   \n",
       " 1     0500000US01003     1003     Baldwin County, Alabama     199510   \n",
       " 2     0500000US01005     1005     Barbour County, Alabama      26614   \n",
       " 3     0500000US01007     1007        Bibb County, Alabama      22572   \n",
       " 4     0500000US01009     1009      Blount County, Alabama      57704   \n",
       " ...              ...      ...                         ...        ...   \n",
       " 3137  0500000US56037    56037  Sweetwater County, Wyoming      44812   \n",
       " 3138  0500000US56039    56039       Teton County, Wyoming      22623   \n",
       " 3139  0500000US56041    56041       Uinta County, Wyoming      20893   \n",
       " 3140  0500000US56043    56043    Washakie County, Wyoming       8351   \n",
       " 3141  0500000US56045    56045      Weston County, Wyoming       7175   \n",
       " \n",
       "      HD02_VD01                        filename  year  \n",
       " 0        *****  ACS_16_5YR_B01003_with_ann.csv  2016  \n",
       " 1        *****  ACS_16_5YR_B01003_with_ann.csv  2016  \n",
       " 2        *****  ACS_16_5YR_B01003_with_ann.csv  2016  \n",
       " 3        *****  ACS_16_5YR_B01003_with_ann.csv  2016  \n",
       " 4        *****  ACS_16_5YR_B01003_with_ann.csv  2016  \n",
       " ...        ...                             ...   ...  \n",
       " 3137     *****  ACS_16_5YR_B01003_with_ann.csv  2016  \n",
       " 3138     *****  ACS_16_5YR_B01003_with_ann.csv  2016  \n",
       " 3139     *****  ACS_16_5YR_B01003_with_ann.csv  2016  \n",
       " 3140     *****  ACS_16_5YR_B01003_with_ann.csv  2016  \n",
       " 3141     *****  ACS_16_5YR_B01003_with_ann.csv  2016  \n",
       " \n",
       " [3142 rows x 7 columns],\n",
       "               GEO.id  GEO.id2           GEO.display-label  HD01_VD01  \\\n",
       " 0     0500000US01001     1001     Autauga County, Alabama      55036   \n",
       " 1     0500000US01003     1003     Baldwin County, Alabama     203360   \n",
       " 2     0500000US01005     1005     Barbour County, Alabama      26201   \n",
       " 3     0500000US01007     1007        Bibb County, Alabama      22580   \n",
       " 4     0500000US01009     1009      Blount County, Alabama      57667   \n",
       " ...              ...      ...                         ...        ...   \n",
       " 3137  0500000US56037    56037  Sweetwater County, Wyoming      44527   \n",
       " 3138  0500000US56039    56039       Teton County, Wyoming      22923   \n",
       " 3139  0500000US56041    56041       Uinta County, Wyoming      20758   \n",
       " 3140  0500000US56043    56043    Washakie County, Wyoming       8253   \n",
       " 3141  0500000US56045    56045      Weston County, Wyoming       7117   \n",
       " \n",
       "      HD02_VD01                        filename  year  \n",
       " 0        *****  ACS_17_5YR_B01003_with_ann.csv  2017  \n",
       " 1        *****  ACS_17_5YR_B01003_with_ann.csv  2017  \n",
       " 2        *****  ACS_17_5YR_B01003_with_ann.csv  2017  \n",
       " 3        *****  ACS_17_5YR_B01003_with_ann.csv  2017  \n",
       " 4        *****  ACS_17_5YR_B01003_with_ann.csv  2017  \n",
       " ...        ...                             ...   ...  \n",
       " 3137     *****  ACS_17_5YR_B01003_with_ann.csv  2017  \n",
       " 3138     *****  ACS_17_5YR_B01003_with_ann.csv  2017  \n",
       " 3139     *****  ACS_17_5YR_B01003_with_ann.csv  2017  \n",
       " 3140     *****  ACS_17_5YR_B01003_with_ann.csv  2017  \n",
       " 3141     *****  ACS_17_5YR_B01003_with_ann.csv  2017  \n",
       " \n",
       " [3142 rows x 7 columns]]"
      ]
     },
     "execution_count": 42,
     "metadata": {},
     "output_type": "execute_result"
    }
   ],
   "source": [
    "all_filenames"
   ]
  },
  {
   "cell_type": "code",
   "execution_count": 43,
   "metadata": {
    "ExecuteTime": {
     "end_time": "2019-12-18T02:00:06.685332Z",
     "start_time": "2019-12-18T02:00:06.662332Z"
    }
   },
   "outputs": [],
   "source": [
    "allfiles = pd.concat(all_filenames, axis=0, ignore_index=True)"
   ]
  },
  {
   "cell_type": "code",
   "execution_count": 44,
   "metadata": {
    "ExecuteTime": {
     "end_time": "2019-12-18T02:00:06.703333Z",
     "start_time": "2019-12-18T02:00:06.688334Z"
    }
   },
   "outputs": [],
   "source": [
    "new_df = allfiles[[\"GEO.id\", \"GEO.id2\", \"GEO.display-label\",\"HD01_VD01\",\"year\"]]"
   ]
  },
  {
   "cell_type": "code",
   "execution_count": 45,
   "metadata": {
    "ExecuteTime": {
     "end_time": "2019-12-18T02:00:06.841845Z",
     "start_time": "2019-12-18T02:00:06.705335Z"
    }
   },
   "outputs": [],
   "source": [
    "new_df.to_csv(\"population_allyears.csv\")"
   ]
  }
 ],
 "metadata": {
  "hide_input": false,
  "kernelspec": {
   "display_name": "Python 3",
   "language": "python",
   "name": "python3"
  },
  "language_info": {
   "codemirror_mode": {
    "name": "ipython",
    "version": 3
   },
   "file_extension": ".py",
   "mimetype": "text/x-python",
   "name": "python",
   "nbconvert_exporter": "python",
   "pygments_lexer": "ipython3",
   "version": "3.7.4"
  },
  "varInspector": {
   "cols": {
    "lenName": 16,
    "lenType": 16,
    "lenVar": 40
   },
   "kernels_config": {
    "python": {
     "delete_cmd_postfix": "",
     "delete_cmd_prefix": "del ",
     "library": "var_list.py",
     "varRefreshCmd": "print(var_dic_list())"
    },
    "r": {
     "delete_cmd_postfix": ") ",
     "delete_cmd_prefix": "rm(",
     "library": "var_list.r",
     "varRefreshCmd": "cat(var_dic_list()) "
    }
   },
   "types_to_exclude": [
    "module",
    "function",
    "builtin_function_or_method",
    "instance",
    "_Feature"
   ],
   "window_display": false
  }
 },
 "nbformat": 4,
 "nbformat_minor": 2
}
