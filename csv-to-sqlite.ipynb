{
 "cells": [
  {
   "cell_type": "code",
   "execution_count": 21,
   "metadata": {
    "ExecuteTime": {
     "end_time": "2019-12-20T02:50:01.762270Z",
     "start_time": "2019-12-20T02:50:01.758270Z"
    }
   },
   "outputs": [],
   "source": [
    "import pandas as pd\n",
    "from sqlalchemy import create_engine"
   ]
  },
  {
   "cell_type": "markdown",
   "metadata": {
    "slideshow": {
     "slide_type": "-"
    }
   },
   "source": [
    "### Store CSV into DataFrame"
   ]
  },
  {
   "cell_type": "code",
   "execution_count": 26,
   "metadata": {
    "ExecuteTime": {
     "end_time": "2019-12-20T02:50:43.475196Z",
     "start_time": "2019-12-20T02:50:43.316184Z"
    }
   },
   "outputs": [
    {
     "data": {
      "text/html": [
       "<div>\n",
       "<style scoped>\n",
       "    .dataframe tbody tr th:only-of-type {\n",
       "        vertical-align: middle;\n",
       "    }\n",
       "\n",
       "    .dataframe tbody tr th {\n",
       "        vertical-align: top;\n",
       "    }\n",
       "\n",
       "    .dataframe thead th {\n",
       "        text-align: right;\n",
       "    }\n",
       "</style>\n",
       "<table border=\"1\" class=\"dataframe\">\n",
       "  <thead>\n",
       "    <tr style=\"text-align: right;\">\n",
       "      <th></th>\n",
       "      <th>sequence</th>\n",
       "      <th>year</th>\n",
       "      <th>type</th>\n",
       "      <th>geo_id</th>\n",
       "      <th>geo_id_2</th>\n",
       "      <th>county_state</th>\n",
       "      <th>total_housing_units</th>\n",
       "      <th>total_housing_units_occupied</th>\n",
       "      <th>median_rooms</th>\n",
       "      <th>owner_occupied_units</th>\n",
       "      <th>...</th>\n",
       "      <th>monthly_cost_with_mortgage</th>\n",
       "      <th>monthly_cost_no_mortgage</th>\n",
       "      <th>county_state_year</th>\n",
       "      <th>has_zillow</th>\n",
       "      <th>median_home_sales_zillow</th>\n",
       "      <th>county</th>\n",
       "      <th>state</th>\n",
       "      <th>city_top_100</th>\n",
       "      <th>population</th>\n",
       "      <th>median_income</th>\n",
       "    </tr>\n",
       "  </thead>\n",
       "  <tbody>\n",
       "    <tr>\n",
       "      <td>0</td>\n",
       "      <td>24660</td>\n",
       "      <td>2017</td>\n",
       "      <td>575</td>\n",
       "      <td>0500000US48261</td>\n",
       "      <td>48261</td>\n",
       "      <td>Kenedy County_Texas</td>\n",
       "      <td>253</td>\n",
       "      <td>152</td>\n",
       "      <td>4.0</td>\n",
       "      <td>43</td>\n",
       "      <td>...</td>\n",
       "      <td>NaN</td>\n",
       "      <td>121.0</td>\n",
       "      <td>Kenedy County_Texas_2017</td>\n",
       "      <td>NaN</td>\n",
       "      <td>NaN</td>\n",
       "      <td>Kenedy County</td>\n",
       "      <td>Texas</td>\n",
       "      <td>NaN</td>\n",
       "      <td>564</td>\n",
       "      <td>24800.0</td>\n",
       "    </tr>\n",
       "    <tr>\n",
       "      <td>1</td>\n",
       "      <td>98</td>\n",
       "      <td>2010</td>\n",
       "      <td>567</td>\n",
       "      <td>0500000US04001</td>\n",
       "      <td>4001</td>\n",
       "      <td>Apache County_Arizona</td>\n",
       "      <td>32468</td>\n",
       "      <td>18859</td>\n",
       "      <td>4.1</td>\n",
       "      <td>14391</td>\n",
       "      <td>...</td>\n",
       "      <td>881.0</td>\n",
       "      <td>159.0</td>\n",
       "      <td>Apache County_Arizona_2010</td>\n",
       "      <td>NaN</td>\n",
       "      <td>NaN</td>\n",
       "      <td>Apache County</td>\n",
       "      <td>Arizona</td>\n",
       "      <td>NaN</td>\n",
       "      <td>70312</td>\n",
       "      <td>30184.0</td>\n",
       "    </tr>\n",
       "    <tr>\n",
       "      <td>2</td>\n",
       "      <td>3242</td>\n",
       "      <td>2011</td>\n",
       "      <td>567</td>\n",
       "      <td>0500000US04001</td>\n",
       "      <td>4001</td>\n",
       "      <td>Apache County_Arizona</td>\n",
       "      <td>32511</td>\n",
       "      <td>18953</td>\n",
       "      <td>4.1</td>\n",
       "      <td>14442</td>\n",
       "      <td>...</td>\n",
       "      <td>911.0</td>\n",
       "      <td>165.0</td>\n",
       "      <td>Apache County_Arizona_2011</td>\n",
       "      <td>NaN</td>\n",
       "      <td>NaN</td>\n",
       "      <td>Apache County</td>\n",
       "      <td>Arizona</td>\n",
       "      <td>NaN</td>\n",
       "      <td>70906</td>\n",
       "      <td>31011.0</td>\n",
       "    </tr>\n",
       "    <tr>\n",
       "      <td>3</td>\n",
       "      <td>6145</td>\n",
       "      <td>2011</td>\n",
       "      <td>567</td>\n",
       "      <td>0500000US54013</td>\n",
       "      <td>54013</td>\n",
       "      <td>Calhoun County_West Virginia</td>\n",
       "      <td>3958</td>\n",
       "      <td>3146</td>\n",
       "      <td>5.5</td>\n",
       "      <td>2425</td>\n",
       "      <td>...</td>\n",
       "      <td>625.0</td>\n",
       "      <td>166.0</td>\n",
       "      <td>Calhoun County_West Virginia_2011</td>\n",
       "      <td>NaN</td>\n",
       "      <td>NaN</td>\n",
       "      <td>Calhoun County</td>\n",
       "      <td>West Virginia</td>\n",
       "      <td>NaN</td>\n",
       "      <td>7616</td>\n",
       "      <td>26099.0</td>\n",
       "    </tr>\n",
       "    <tr>\n",
       "      <td>4</td>\n",
       "      <td>6386</td>\n",
       "      <td>2012</td>\n",
       "      <td>567</td>\n",
       "      <td>0500000US04001</td>\n",
       "      <td>4001</td>\n",
       "      <td>Apache County_Arizona</td>\n",
       "      <td>32548</td>\n",
       "      <td>19035</td>\n",
       "      <td>4.2</td>\n",
       "      <td>14513</td>\n",
       "      <td>...</td>\n",
       "      <td>965.0</td>\n",
       "      <td>169.0</td>\n",
       "      <td>Apache County_Arizona_2012</td>\n",
       "      <td>NaN</td>\n",
       "      <td>NaN</td>\n",
       "      <td>Apache County</td>\n",
       "      <td>Arizona</td>\n",
       "      <td>NaN</td>\n",
       "      <td>71618</td>\n",
       "      <td>31615.0</td>\n",
       "    </tr>\n",
       "  </tbody>\n",
       "</table>\n",
       "<p>5 rows × 23 columns</p>\n",
       "</div>"
      ],
      "text/plain": [
       "   sequence  year  type          geo_id  geo_id_2  \\\n",
       "0     24660  2017   575  0500000US48261     48261   \n",
       "1        98  2010   567  0500000US04001      4001   \n",
       "2      3242  2011   567  0500000US04001      4001   \n",
       "3      6145  2011   567  0500000US54013     54013   \n",
       "4      6386  2012   567  0500000US04001      4001   \n",
       "\n",
       "                   county_state  total_housing_units  \\\n",
       "0           Kenedy County_Texas                  253   \n",
       "1         Apache County_Arizona                32468   \n",
       "2         Apache County_Arizona                32511   \n",
       "3  Calhoun County_West Virginia                 3958   \n",
       "4         Apache County_Arizona                32548   \n",
       "\n",
       "   total_housing_units_occupied  median_rooms  owner_occupied_units  ...  \\\n",
       "0                           152           4.0                    43  ...   \n",
       "1                         18859           4.1                 14391  ...   \n",
       "2                         18953           4.1                 14442  ...   \n",
       "3                          3146           5.5                  2425  ...   \n",
       "4                         19035           4.2                 14513  ...   \n",
       "\n",
       "   monthly_cost_with_mortgage  monthly_cost_no_mortgage  \\\n",
       "0                         NaN                     121.0   \n",
       "1                       881.0                     159.0   \n",
       "2                       911.0                     165.0   \n",
       "3                       625.0                     166.0   \n",
       "4                       965.0                     169.0   \n",
       "\n",
       "                   county_state_year  has_zillow  median_home_sales_zillow  \\\n",
       "0           Kenedy County_Texas_2017         NaN                       NaN   \n",
       "1         Apache County_Arizona_2010         NaN                       NaN   \n",
       "2         Apache County_Arizona_2011         NaN                       NaN   \n",
       "3  Calhoun County_West Virginia_2011         NaN                       NaN   \n",
       "4         Apache County_Arizona_2012         NaN                       NaN   \n",
       "\n",
       "           county          state  city_top_100 population median_income  \n",
       "0   Kenedy County          Texas           NaN        564       24800.0  \n",
       "1   Apache County        Arizona           NaN      70312       30184.0  \n",
       "2   Apache County        Arizona           NaN      70906       31011.0  \n",
       "3  Calhoun County  West Virginia           NaN       7616       26099.0  \n",
       "4   Apache County        Arizona           NaN      71618       31615.0  \n",
       "\n",
       "[5 rows x 23 columns]"
      ]
     },
     "execution_count": 26,
     "metadata": {},
     "output_type": "execute_result"
    }
   ],
   "source": [
    "csv_file = \"C:/Users/Robin/Downloads/Housing_Final_Datafile_v2.04.csv\"\n",
    "df = pd.read_csv(csv_file)\n",
    "df.head()"
   ]
  },
  {
   "cell_type": "markdown",
   "metadata": {},
   "source": [
    "### Connect to local database"
   ]
  },
  {
   "cell_type": "code",
   "execution_count": 27,
   "metadata": {
    "ExecuteTime": {
     "end_time": "2019-12-20T02:50:46.853726Z",
     "start_time": "2019-12-20T02:50:46.847730Z"
    }
   },
   "outputs": [],
   "source": [
    "database_path = \"housing_db.sqlite\"\n",
    "engine = create_engine(f\"sqlite:///{database_path}\")"
   ]
  },
  {
   "cell_type": "markdown",
   "metadata": {},
   "source": [
    "### Use pandas to load csv converted DataFrame into database"
   ]
  },
  {
   "cell_type": "code",
   "execution_count": 28,
   "metadata": {
    "ExecuteTime": {
     "end_time": "2019-12-20T02:50:49.414778Z",
     "start_time": "2019-12-20T02:50:48.491242Z"
    }
   },
   "outputs": [],
   "source": [
    "df.to_sql(name='housing', con=engine, if_exists='append', index=False)"
   ]
  },
  {
   "cell_type": "markdown",
   "metadata": {},
   "source": [
    "### Check for tables"
   ]
  },
  {
   "cell_type": "code",
   "execution_count": 29,
   "metadata": {
    "ExecuteTime": {
     "end_time": "2019-12-20T02:50:50.819161Z",
     "start_time": "2019-12-20T02:50:50.807161Z"
    }
   },
   "outputs": [
    {
     "data": {
      "text/plain": [
       "['housing']"
      ]
     },
     "execution_count": 29,
     "metadata": {},
     "output_type": "execute_result"
    }
   ],
   "source": [
    "engine.table_names()"
   ]
  },
  {
   "cell_type": "markdown",
   "metadata": {},
   "source": [
    "### Confirm data has been added by querying the customer_name table\n",
    "* NOTE: can also check using pgAdmin"
   ]
  },
  {
   "cell_type": "code",
   "execution_count": 25,
   "metadata": {
    "ExecuteTime": {
     "end_time": "2019-12-20T02:50:09.224689Z",
     "start_time": "2019-12-20T02:50:09.196689Z"
    }
   },
   "outputs": [
    {
     "data": {
      "text/html": [
       "<div>\n",
       "<style scoped>\n",
       "    .dataframe tbody tr th:only-of-type {\n",
       "        vertical-align: middle;\n",
       "    }\n",
       "\n",
       "    .dataframe tbody tr th {\n",
       "        vertical-align: top;\n",
       "    }\n",
       "\n",
       "    .dataframe thead th {\n",
       "        text-align: right;\n",
       "    }\n",
       "</style>\n",
       "<table border=\"1\" class=\"dataframe\">\n",
       "  <thead>\n",
       "    <tr style=\"text-align: right;\">\n",
       "      <th></th>\n",
       "      <th>sequence</th>\n",
       "      <th>year</th>\n",
       "      <th>type</th>\n",
       "      <th>geo_id</th>\n",
       "      <th>geo_id_2</th>\n",
       "      <th>county_state</th>\n",
       "      <th>total_housing_units</th>\n",
       "      <th>total_housing_units_occupied</th>\n",
       "      <th>median_rooms</th>\n",
       "      <th>owner_occupied_units</th>\n",
       "      <th>...</th>\n",
       "      <th>monthly_cost_with_mortgage</th>\n",
       "      <th>monthly_cost_no_mortgage</th>\n",
       "      <th>county_state_year</th>\n",
       "      <th>has_zillow</th>\n",
       "      <th>median_home_sales_zillow</th>\n",
       "      <th>county</th>\n",
       "      <th>state</th>\n",
       "      <th>city_top_100</th>\n",
       "      <th>population</th>\n",
       "      <th>median_income</th>\n",
       "    </tr>\n",
       "  </thead>\n",
       "  <tbody>\n",
       "    <tr>\n",
       "      <td>0</td>\n",
       "      <td>24660</td>\n",
       "      <td>2017</td>\n",
       "      <td>575</td>\n",
       "      <td>0500000US48261</td>\n",
       "      <td>48261</td>\n",
       "      <td>Kenedy County_Texas</td>\n",
       "      <td>253</td>\n",
       "      <td>152</td>\n",
       "      <td>4.0</td>\n",
       "      <td>43</td>\n",
       "      <td>...</td>\n",
       "      <td>NaN</td>\n",
       "      <td>121.0</td>\n",
       "      <td>Kenedy County_Texas_2017</td>\n",
       "      <td>None</td>\n",
       "      <td>NaN</td>\n",
       "      <td>Kenedy County</td>\n",
       "      <td>Texas</td>\n",
       "      <td>None</td>\n",
       "      <td>564</td>\n",
       "      <td>24800.0</td>\n",
       "    </tr>\n",
       "    <tr>\n",
       "      <td>1</td>\n",
       "      <td>98</td>\n",
       "      <td>2010</td>\n",
       "      <td>567</td>\n",
       "      <td>0500000US04001</td>\n",
       "      <td>4001</td>\n",
       "      <td>Apache County_Arizona</td>\n",
       "      <td>32468</td>\n",
       "      <td>18859</td>\n",
       "      <td>4.1</td>\n",
       "      <td>14391</td>\n",
       "      <td>...</td>\n",
       "      <td>881.0</td>\n",
       "      <td>159.0</td>\n",
       "      <td>Apache County_Arizona_2010</td>\n",
       "      <td>None</td>\n",
       "      <td>NaN</td>\n",
       "      <td>Apache County</td>\n",
       "      <td>Arizona</td>\n",
       "      <td>None</td>\n",
       "      <td>70312</td>\n",
       "      <td>30184.0</td>\n",
       "    </tr>\n",
       "    <tr>\n",
       "      <td>2</td>\n",
       "      <td>3242</td>\n",
       "      <td>2011</td>\n",
       "      <td>567</td>\n",
       "      <td>0500000US04001</td>\n",
       "      <td>4001</td>\n",
       "      <td>Apache County_Arizona</td>\n",
       "      <td>32511</td>\n",
       "      <td>18953</td>\n",
       "      <td>4.1</td>\n",
       "      <td>14442</td>\n",
       "      <td>...</td>\n",
       "      <td>911.0</td>\n",
       "      <td>165.0</td>\n",
       "      <td>Apache County_Arizona_2011</td>\n",
       "      <td>None</td>\n",
       "      <td>NaN</td>\n",
       "      <td>Apache County</td>\n",
       "      <td>Arizona</td>\n",
       "      <td>None</td>\n",
       "      <td>70906</td>\n",
       "      <td>31011.0</td>\n",
       "    </tr>\n",
       "    <tr>\n",
       "      <td>3</td>\n",
       "      <td>6145</td>\n",
       "      <td>2011</td>\n",
       "      <td>567</td>\n",
       "      <td>0500000US54013</td>\n",
       "      <td>54013</td>\n",
       "      <td>Calhoun County_West Virginia</td>\n",
       "      <td>3958</td>\n",
       "      <td>3146</td>\n",
       "      <td>5.5</td>\n",
       "      <td>2425</td>\n",
       "      <td>...</td>\n",
       "      <td>625.0</td>\n",
       "      <td>166.0</td>\n",
       "      <td>Calhoun County_West Virginia_2011</td>\n",
       "      <td>None</td>\n",
       "      <td>NaN</td>\n",
       "      <td>Calhoun County</td>\n",
       "      <td>West Virginia</td>\n",
       "      <td>None</td>\n",
       "      <td>7616</td>\n",
       "      <td>26099.0</td>\n",
       "    </tr>\n",
       "    <tr>\n",
       "      <td>4</td>\n",
       "      <td>6386</td>\n",
       "      <td>2012</td>\n",
       "      <td>567</td>\n",
       "      <td>0500000US04001</td>\n",
       "      <td>4001</td>\n",
       "      <td>Apache County_Arizona</td>\n",
       "      <td>32548</td>\n",
       "      <td>19035</td>\n",
       "      <td>4.2</td>\n",
       "      <td>14513</td>\n",
       "      <td>...</td>\n",
       "      <td>965.0</td>\n",
       "      <td>169.0</td>\n",
       "      <td>Apache County_Arizona_2012</td>\n",
       "      <td>None</td>\n",
       "      <td>NaN</td>\n",
       "      <td>Apache County</td>\n",
       "      <td>Arizona</td>\n",
       "      <td>None</td>\n",
       "      <td>71618</td>\n",
       "      <td>31615.0</td>\n",
       "    </tr>\n",
       "  </tbody>\n",
       "</table>\n",
       "<p>5 rows × 23 columns</p>\n",
       "</div>"
      ],
      "text/plain": [
       "   sequence  year  type          geo_id  geo_id_2  \\\n",
       "0     24660  2017   575  0500000US48261     48261   \n",
       "1        98  2010   567  0500000US04001      4001   \n",
       "2      3242  2011   567  0500000US04001      4001   \n",
       "3      6145  2011   567  0500000US54013     54013   \n",
       "4      6386  2012   567  0500000US04001      4001   \n",
       "\n",
       "                   county_state  total_housing_units  \\\n",
       "0           Kenedy County_Texas                  253   \n",
       "1         Apache County_Arizona                32468   \n",
       "2         Apache County_Arizona                32511   \n",
       "3  Calhoun County_West Virginia                 3958   \n",
       "4         Apache County_Arizona                32548   \n",
       "\n",
       "   total_housing_units_occupied  median_rooms  owner_occupied_units  ...  \\\n",
       "0                           152           4.0                    43  ...   \n",
       "1                         18859           4.1                 14391  ...   \n",
       "2                         18953           4.1                 14442  ...   \n",
       "3                          3146           5.5                  2425  ...   \n",
       "4                         19035           4.2                 14513  ...   \n",
       "\n",
       "   monthly_cost_with_mortgage monthly_cost_no_mortgage  \\\n",
       "0                         NaN                    121.0   \n",
       "1                       881.0                    159.0   \n",
       "2                       911.0                    165.0   \n",
       "3                       625.0                    166.0   \n",
       "4                       965.0                    169.0   \n",
       "\n",
       "                   county_state_year  has_zillow  median_home_sales_zillow  \\\n",
       "0           Kenedy County_Texas_2017        None                       NaN   \n",
       "1         Apache County_Arizona_2010        None                       NaN   \n",
       "2         Apache County_Arizona_2011        None                       NaN   \n",
       "3  Calhoun County_West Virginia_2011        None                       NaN   \n",
       "4         Apache County_Arizona_2012        None                       NaN   \n",
       "\n",
       "           county          state  city_top_100 population median_income  \n",
       "0   Kenedy County          Texas          None        564       24800.0  \n",
       "1   Apache County        Arizona          None      70312       30184.0  \n",
       "2   Apache County        Arizona          None      70906       31011.0  \n",
       "3  Calhoun County  West Virginia          None       7616       26099.0  \n",
       "4   Apache County        Arizona          None      71618       31615.0  \n",
       "\n",
       "[5 rows x 23 columns]"
      ]
     },
     "execution_count": 25,
     "metadata": {},
     "output_type": "execute_result"
    }
   ],
   "source": [
    "pd.read_sql_query('select * from housing limit 50', con=engine).head()"
   ]
  },
  {
   "cell_type": "code",
   "execution_count": null,
   "metadata": {},
   "outputs": [],
   "source": []
  }
 ],
 "metadata": {
  "hide_input": false,
  "kernelspec": {
   "display_name": "Python 3",
   "language": "python",
   "name": "python3"
  },
  "language_info": {
   "codemirror_mode": {
    "name": "ipython",
    "version": 3
   },
   "file_extension": ".py",
   "mimetype": "text/x-python",
   "name": "python",
   "nbconvert_exporter": "python",
   "pygments_lexer": "ipython3",
   "version": "3.7.4"
  },
  "nteract": {
   "version": "0.12.3"
  },
  "varInspector": {
   "cols": {
    "lenName": 16,
    "lenType": 16,
    "lenVar": 40
   },
   "kernels_config": {
    "python": {
     "delete_cmd_postfix": "",
     "delete_cmd_prefix": "del ",
     "library": "var_list.py",
     "varRefreshCmd": "print(var_dic_list())"
    },
    "r": {
     "delete_cmd_postfix": ") ",
     "delete_cmd_prefix": "rm(",
     "library": "var_list.r",
     "varRefreshCmd": "cat(var_dic_list()) "
    }
   },
   "types_to_exclude": [
    "module",
    "function",
    "builtin_function_or_method",
    "instance",
    "_Feature"
   ],
   "window_display": false
  }
 },
 "nbformat": 4,
 "nbformat_minor": 2
}
